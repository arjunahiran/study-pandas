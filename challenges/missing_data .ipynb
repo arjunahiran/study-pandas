{
 "cells": [
  {
   "cell_type": "code",
   "execution_count": 21,
   "metadata": {},
   "outputs": [],
   "source": [
    "import pandas as pd"
   ]
  },
  {
   "cell_type": "code",
   "execution_count": 22,
   "metadata": {},
   "outputs": [
    {
     "data": {
      "text/plain": [
       "A    True\n",
       "B    True\n",
       "dtype: bool"
      ]
     },
     "execution_count": 22,
     "metadata": {},
     "output_type": "execute_result"
    }
   ],
   "source": [
    "# Count Missing Values:\n",
    "# Write a function that takes a Pandas DataFrame as input\n",
    "# and returns the count of missing values in each column.\n",
    "\n",
    "\n",
    "def count_missing_values(df: pd.DataFrame) -> pd.Series:\n",
    "    return df.isna().sum()\n",
    "\n",
    "\n",
    "# Input:\n",
    "df = pd.DataFrame({\"A\": [1, 2, None, 4], \"B\": [None, 5, 6, 7]})\n",
    "\n",
    "# Expected output:\n",
    "# A    1\n",
    "# B    1\n",
    "# dtype: int64\n",
    "count_missing_values(df) == pd.Series(dict(A=1, B=1))"
   ]
  },
  {
   "cell_type": "code",
   "execution_count": 23,
   "metadata": {},
   "outputs": [
    {
     "data": {
      "text/plain": [
       "(True, True, True)"
      ]
     },
     "execution_count": 23,
     "metadata": {},
     "output_type": "execute_result"
    }
   ],
   "source": [
    "# Check if Any Value is Missing:\n",
    "# Write a function that takes a Pandas DataFrame as input\n",
    "# and returns True if there is at least one missing value\n",
    "# in any column, otherwise returns False.\n",
    "\n",
    "\n",
    "def any_missing_value(df: pd.DataFrame) -> pd.Series:\n",
    "    return df.isna().any().any()\n",
    "\n",
    "\n",
    "# Input 1:\n",
    "df1 = pd.DataFrame({\"A\": [1, 2, None, 4], \"B\": [None, 5, 6, 7]})\n",
    "\n",
    "# Expected output:\n",
    "# True\n",
    "\n",
    "# Input 2:\n",
    "df2 = pd.DataFrame({\"A\": [1, 2, 4, 8], \"B\": [5, 6, 7, None]})\n",
    "\n",
    "# Expected output:\n",
    "# True\n",
    "\n",
    "# Input 2:\n",
    "df3 = pd.DataFrame({\"A\": [1, 2, 4, 8], \"B\": [5, 6, 7, 3]})\n",
    "\n",
    "# Expected output:\n",
    "# False\n",
    "\n",
    "(\n",
    "    any_missing_value(df1) == True,\n",
    "    any_missing_value(df2) == True,\n",
    "    any_missing_value(df3) == False,\n",
    ")"
   ]
  },
  {
   "cell_type": "code",
   "execution_count": 29,
   "metadata": {},
   "outputs": [
    {
     "data": {
      "text/plain": [
       "(True, True, True)"
      ]
     },
     "execution_count": 29,
     "metadata": {},
     "output_type": "execute_result"
    }
   ],
   "source": [
    "# Check if All Values are Missing:\n",
    "# Write a function that takes a Pandas DataFrame as input\n",
    "# and returns True if all values in any column are missing,\n",
    "# otherwise returns False.\n",
    "\n",
    "\n",
    "def all_missing_values(df: pd.DataFrame) -> pd.Series:\n",
    "    return df.isna().all().any()\n",
    "\n",
    "\n",
    "# Input 1\n",
    "df1 = pd.DataFrame({\"A\": [None, None, None, None], \"B\": [None, None, None, None]})\n",
    "\n",
    "# Expected output:\n",
    "# True\n",
    "\n",
    "# Input 2\n",
    "df2 = pd.DataFrame({\"A\": [None, None, None, 1], \"B\": [None, None, None, None]})\n",
    "\n",
    "# Expected output:\n",
    "# False\n",
    "\n",
    "# Input 3\n",
    "df3 = pd.DataFrame({\"A\": [1, None, None, None], \"B\": [None, 3, None, None]})\n",
    "\n",
    "# Expected output:\n",
    "# False\n",
    "\n",
    "(\n",
    "    all_missing_values(df1) == True,\n",
    "    all_missing_values(df2) == True,\n",
    "    all_missing_values(df3) == False,\n",
    ")"
   ]
  },
  {
   "cell_type": "code",
   "execution_count": 41,
   "metadata": {},
   "outputs": [
    {
     "data": {
      "text/html": [
       "<div>\n",
       "<style scoped>\n",
       "    .dataframe tbody tr th:only-of-type {\n",
       "        vertical-align: middle;\n",
       "    }\n",
       "\n",
       "    .dataframe tbody tr th {\n",
       "        vertical-align: top;\n",
       "    }\n",
       "\n",
       "    .dataframe thead th {\n",
       "        text-align: right;\n",
       "    }\n",
       "</style>\n",
       "<table border=\"1\" class=\"dataframe\">\n",
       "  <thead>\n",
       "    <tr style=\"text-align: right;\">\n",
       "      <th></th>\n",
       "      <th>A</th>\n",
       "      <th>B</th>\n",
       "    </tr>\n",
       "  </thead>\n",
       "  <tbody>\n",
       "    <tr>\n",
       "      <th>1</th>\n",
       "      <td>True</td>\n",
       "      <td>True</td>\n",
       "    </tr>\n",
       "    <tr>\n",
       "      <th>3</th>\n",
       "      <td>True</td>\n",
       "      <td>True</td>\n",
       "    </tr>\n",
       "  </tbody>\n",
       "</table>\n",
       "</div>"
      ],
      "text/plain": [
       "      A     B\n",
       "1  True  True\n",
       "3  True  True"
      ]
     },
     "execution_count": 41,
     "metadata": {},
     "output_type": "execute_result"
    }
   ],
   "source": [
    "# Filter Non-Missing Values:\n",
    "# Write a function that takes a Pandas DataFrame as input\n",
    "# and returns a new DataFrame containing only the rows with\n",
    "# non-missing values.\n",
    "\n",
    "\n",
    "def filter_none_missing_values(df: pd.DataFrame) -> pd.DataFrame:\n",
    "    return df[df.notna().all(axis=\"columns\")]\n",
    "\n",
    "\n",
    "# Input:\n",
    "df = pd.DataFrame(\n",
    "    {\n",
    "        \"A\": [1, 2, None, 4],\n",
    "        \"B\": [None, 5, 6, 7],\n",
    "    }\n",
    ")\n",
    "\n",
    "# Expected output:\n",
    "#    A    B\n",
    "# 1  2    5\n",
    "# 3  4    7\n",
    "\n",
    "filter_none_missing_values(df) == pd.DataFrame(\n",
    "    [[2, 5], [4, 7]], index=[1, 3], columns=[\"A\", \"B\"]\n",
    ")"
   ]
  }
 ],
 "metadata": {
  "kernelspec": {
   "display_name": "study-pandas",
   "language": "python",
   "name": "python3"
  },
  "language_info": {
   "codemirror_mode": {
    "name": "ipython",
    "version": 3
   },
   "file_extension": ".py",
   "mimetype": "text/x-python",
   "name": "python",
   "nbconvert_exporter": "python",
   "pygments_lexer": "ipython3",
   "version": "3.11.7"
  }
 },
 "nbformat": 4,
 "nbformat_minor": 2
}
